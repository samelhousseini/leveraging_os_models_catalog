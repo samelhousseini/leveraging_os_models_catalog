{
  "cells": [
    {
      "attachments": {},
      "cell_type": "markdown",
      "metadata": {},
      "source": [
        "# How to create an Azure AI Content Safety enabled Llama 2 online endpoint (Preview)\n",
        "### This notebook will walk you through the steps to create an __Azure AI Content Safety__ enabled __Llama 2__ online endpoint.\n",
        "### This notebook is under preview\n",
        "### The steps are:\n",
        "1. Create an __Azure AI Content Safety__ resource for moderating the request from user and response from the __Llama 2__ online endpoint.\n",
        "2. Create a new __Azure AI Content Safety__ enabled __Llama 2__ online endpoint with a custom score.py which will integrate with the __Azure AI Content Safety__ resource to moderate the response from the __Llama 2__ model and the request from the user, but to make the custom score.py to successfully authenticated to the __Azure AI Content Safety__ resource, we have 2 options:\n",
        "    1. __UAI__, recommended but more complex approach, is to create a User Assigned Identity (UAI) and assign appropriate roles to the UAI. Then, the custom score.py can obtain the access token of the UAI from the AAD server to access the Azure AI Content Safety resource. Use [this notebook](aacs-prepare-uai.ipynb) to create UAI account for step 3 below\n",
        "    2. __Environment variable__, simpler but less secure approach, is to just pass the access key of the Azure AI Content Safety resource to the custom score.py via environment variable, then the custom score.py can use the key directly to access the Azure AI Content Safety resource, this option is less secure than the first option, if someone in your org has access to the endpoint, he/she can get the access key from the environment variable and use it to access the Azure AI Content Safety resource.\n",
        "  "
      ]
    },
    {
      "attachments": {},
      "cell_type": "markdown",
      "metadata": {},
      "source": [
        "### 1. Prerequisites\n",
        "#### 1.1 Check List:\n",
        "- [x] You have created a new Python virtual environment for this notebook.\n",
        "- [x] The identity you are using to execute this notebook(yourself or your VM) need to have the __Contributor__ role on the resource group where the AML Workspace your specified is located, because this notebook will create an Azure AI Content Safety resource using that identity."
      ]
    },
    {
      "attachments": {},
      "cell_type": "markdown",
      "metadata": {},
      "source": [
        "#### 1.2 Assign variables for the workspace and deployment"
      ]
    },
    {
      "cell_type": "code",
      "execution_count": 1,
      "metadata": {
        "gather": {
          "logged": 1697280451460
        }
      },
      "outputs": [],
      "source": [
        "# The public registry name contains Llama 2 models\n",
        "registry_name = \"azureml-meta\"\n",
        "\n",
        "# Name of the Llama 2 model to be deployed\n",
        "# available_llama_models_text_generation = [\"Llama-2-7b\", \"Llama-2-13b\", \"Llama-2-70b\"]\n",
        "# available_llama_models_chat_complete = [\"Llama-2-7b-chat\", \"Llama-2-13b-chat\", \"Llama-2-70b-chat\"]\n",
        "model_name = \"Llama-2-7b-chat\"\n",
        "\n",
        "endpoint_name = f\"{model_name}-test-ep\"  # Replace with your endpoint name\n",
        "deployment_name = \"llama\"  # Replace with your deployment name, lower case only!!!\n",
        "sku_name = \"Standard_NC12s_v3\"  # Name of the sku(instance type) Check the model-list(can be found in the parent folder(inference)) to get the most optimal sku for your model (Default: Standard_DS2_v2)\n",
        "\n",
        "# The severity level that will trigger response be blocked\n",
        "# Please reference Azure AI content documentation for more details\n",
        "# https://learn.microsoft.com/en-us/azure/cognitive-services/content-safety/concepts/harm-categories\n",
        "content_severity_threshold = \"2\"\n",
        "\n",
        "# UAI to be used for endpoint if you choose to use UAI as authentication method\n",
        "uai_name = \"\"  # default to \"aacs-uai\" in prepare uai notebook"
      ]
    },
    {
      "attachments": {},
      "cell_type": "markdown",
      "metadata": {},
      "source": [
        "#### 1.3 Install Dependencies(as needed)"
      ]
    },
    {
      "cell_type": "code",
      "execution_count": 2,
      "metadata": {
        "gather": {
          "logged": 1697280464583
        }
      },
      "outputs": [
        {
          "name": "stdout",
          "output_type": "stream",
          "text": [
            "Requirement already satisfied: azure-identity==1.13.0 in /anaconda/envs/jupyter_env/lib/python3.8/site-packages (1.13.0)\n",
            "Requirement already satisfied: cryptography>=2.5 in /anaconda/envs/jupyter_env/lib/python3.8/site-packages (from azure-identity==1.13.0) (41.0.1)\n",
            "Requirement already satisfied: msal<2.0.0,>=1.20.0 in /anaconda/envs/jupyter_env/lib/python3.8/site-packages (from azure-identity==1.13.0) (1.22.0)\n",
            "Requirement already satisfied: msal-extensions<2.0.0,>=0.3.0 in /anaconda/envs/jupyter_env/lib/python3.8/site-packages (from azure-identity==1.13.0) (1.0.0)\n",
            "Requirement already satisfied: six>=1.12.0 in /anaconda/envs/jupyter_env/lib/python3.8/site-packages (from azure-identity==1.13.0) (1.16.0)\n",
            "Requirement already satisfied: azure-core<2.0.0,>=1.11.0 in /anaconda/envs/jupyter_env/lib/python3.8/site-packages (from azure-identity==1.13.0) (1.29.4)\n",
            "Requirement already satisfied: typing-extensions>=4.6.0 in /anaconda/envs/jupyter_env/lib/python3.8/site-packages (from azure-core<2.0.0,>=1.11.0->azure-identity==1.13.0) (4.6.3)\n",
            "Requirement already satisfied: requests>=2.18.4 in /anaconda/envs/jupyter_env/lib/python3.8/site-packages (from azure-core<2.0.0,>=1.11.0->azure-identity==1.13.0) (2.31.0)\n",
            "Requirement already satisfied: cffi>=1.12 in /anaconda/envs/jupyter_env/lib/python3.8/site-packages (from cryptography>=2.5->azure-identity==1.13.0) (1.15.1)\n",
            "Requirement already satisfied: PyJWT[crypto]<3,>=1.0.0 in /anaconda/envs/jupyter_env/lib/python3.8/site-packages (from msal<2.0.0,>=1.20.0->azure-identity==1.13.0) (2.7.0)\n",
            "Requirement already satisfied: portalocker<3,>=1.0 in /anaconda/envs/jupyter_env/lib/python3.8/site-packages (from msal-extensions<2.0.0,>=0.3.0->azure-identity==1.13.0) (2.7.0)\n",
            "Requirement already satisfied: pycparser in /anaconda/envs/jupyter_env/lib/python3.8/site-packages (from cffi>=1.12->cryptography>=2.5->azure-identity==1.13.0) (2.21)\n",
            "Requirement already satisfied: idna<4,>=2.5 in /anaconda/envs/jupyter_env/lib/python3.8/site-packages (from requests>=2.18.4->azure-core<2.0.0,>=1.11.0->azure-identity==1.13.0) (3.4)\n",
            "Requirement already satisfied: certifi>=2017.4.17 in /anaconda/envs/jupyter_env/lib/python3.8/site-packages (from requests>=2.18.4->azure-core<2.0.0,>=1.11.0->azure-identity==1.13.0) (2023.5.7)\n",
            "Requirement already satisfied: charset-normalizer<4,>=2 in /anaconda/envs/jupyter_env/lib/python3.8/site-packages (from requests>=2.18.4->azure-core<2.0.0,>=1.11.0->azure-identity==1.13.0) (3.1.0)\n",
            "Requirement already satisfied: urllib3<3,>=1.21.1 in /anaconda/envs/jupyter_env/lib/python3.8/site-packages (from requests>=2.18.4->azure-core<2.0.0,>=1.11.0->azure-identity==1.13.0) (1.26.16)\n",
            "Note: you may need to restart the kernel to use updated packages.\n",
            "Requirement already satisfied: azure-mgmt-cognitiveservices==13.4.0 in /anaconda/envs/jupyter_env/lib/python3.8/site-packages (13.4.0)\n",
            "Requirement already satisfied: msrest>=0.7.1 in /anaconda/envs/jupyter_env/lib/python3.8/site-packages (from azure-mgmt-cognitiveservices==13.4.0) (0.7.1)\n",
            "Requirement already satisfied: azure-common~=1.1 in /anaconda/envs/jupyter_env/lib/python3.8/site-packages (from azure-mgmt-cognitiveservices==13.4.0) (1.1.28)\n",
            "Requirement already satisfied: azure-mgmt-core<2.0.0,>=1.3.2 in /anaconda/envs/jupyter_env/lib/python3.8/site-packages (from azure-mgmt-cognitiveservices==13.4.0) (1.4.0)\n",
            "Requirement already satisfied: azure-core<2.0.0,>=1.26.2 in /anaconda/envs/jupyter_env/lib/python3.8/site-packages (from azure-mgmt-core<2.0.0,>=1.3.2->azure-mgmt-cognitiveservices==13.4.0) (1.29.4)\n",
            "Requirement already satisfied: certifi>=2017.4.17 in /anaconda/envs/jupyter_env/lib/python3.8/site-packages (from msrest>=0.7.1->azure-mgmt-cognitiveservices==13.4.0) (2023.5.7)\n",
            "Requirement already satisfied: requests-oauthlib>=0.5.0 in /anaconda/envs/jupyter_env/lib/python3.8/site-packages (from msrest>=0.7.1->azure-mgmt-cognitiveservices==13.4.0) (1.3.1)\n",
            "Requirement already satisfied: isodate>=0.6.0 in /anaconda/envs/jupyter_env/lib/python3.8/site-packages (from msrest>=0.7.1->azure-mgmt-cognitiveservices==13.4.0) (0.6.1)\n",
            "Requirement already satisfied: requests~=2.16 in /anaconda/envs/jupyter_env/lib/python3.8/site-packages (from msrest>=0.7.1->azure-mgmt-cognitiveservices==13.4.0) (2.31.0)\n",
            "Requirement already satisfied: six>=1.11.0 in /anaconda/envs/jupyter_env/lib/python3.8/site-packages (from azure-core<2.0.0,>=1.26.2->azure-mgmt-core<2.0.0,>=1.3.2->azure-mgmt-cognitiveservices==13.4.0) (1.16.0)\n",
            "Requirement already satisfied: typing-extensions>=4.6.0 in /anaconda/envs/jupyter_env/lib/python3.8/site-packages (from azure-core<2.0.0,>=1.26.2->azure-mgmt-core<2.0.0,>=1.3.2->azure-mgmt-cognitiveservices==13.4.0) (4.6.3)\n",
            "Requirement already satisfied: urllib3<3,>=1.21.1 in /anaconda/envs/jupyter_env/lib/python3.8/site-packages (from requests~=2.16->msrest>=0.7.1->azure-mgmt-cognitiveservices==13.4.0) (1.26.16)\n",
            "Requirement already satisfied: idna<4,>=2.5 in /anaconda/envs/jupyter_env/lib/python3.8/site-packages (from requests~=2.16->msrest>=0.7.1->azure-mgmt-cognitiveservices==13.4.0) (3.4)\n",
            "Requirement already satisfied: charset-normalizer<4,>=2 in /anaconda/envs/jupyter_env/lib/python3.8/site-packages (from requests~=2.16->msrest>=0.7.1->azure-mgmt-cognitiveservices==13.4.0) (3.1.0)\n",
            "Requirement already satisfied: oauthlib>=3.0.0 in /anaconda/envs/jupyter_env/lib/python3.8/site-packages (from requests-oauthlib>=0.5.0->msrest>=0.7.1->azure-mgmt-cognitiveservices==13.4.0) (3.2.2)\n",
            "Note: you may need to restart the kernel to use updated packages.\n",
            "Requirement already satisfied: azure-ai-ml==1.8.0 in /anaconda/envs/jupyter_env/lib/python3.8/site-packages (1.8.0)\n",
            "Requirement already satisfied: azure-storage-blob<13.0.0,>=12.10.0 in /anaconda/envs/jupyter_env/lib/python3.8/site-packages (from azure-ai-ml==1.8.0) (12.18.3)\n",
            "Requirement already satisfied: pyyaml<7.0.0,>=5.1.0 in /anaconda/envs/jupyter_env/lib/python3.8/site-packages (from azure-ai-ml==1.8.0) (6.0)\n",
            "Requirement already satisfied: azure-storage-file-share<13.0.0 in /anaconda/envs/jupyter_env/lib/python3.8/site-packages (from azure-ai-ml==1.8.0) (12.14.2)\n",
            "Requirement already satisfied: typing-extensions<5.0.0 in /anaconda/envs/jupyter_env/lib/python3.8/site-packages (from azure-ai-ml==1.8.0) (4.6.3)\n",
            "Requirement already satisfied: azure-core<2.0.0,>=1.23.0 in /anaconda/envs/jupyter_env/lib/python3.8/site-packages (from azure-ai-ml==1.8.0) (1.29.4)\n",
            "Requirement already satisfied: strictyaml<2.0.0 in /anaconda/envs/jupyter_env/lib/python3.8/site-packages (from azure-ai-ml==1.8.0) (1.7.3)\n",
            "Requirement already satisfied: azure-mgmt-core<2.0.0,>=1.3.0 in /anaconda/envs/jupyter_env/lib/python3.8/site-packages (from azure-ai-ml==1.8.0) (1.4.0)\n",
            "Requirement already satisfied: pydash<6.0.0 in /anaconda/envs/jupyter_env/lib/python3.8/site-packages (from azure-ai-ml==1.8.0) (5.1.2)\n",
            "Requirement already satisfied: azure-common<2.0.0,>=1.1 in /anaconda/envs/jupyter_env/lib/python3.8/site-packages (from azure-ai-ml==1.8.0) (1.1.28)\n",
            "Requirement already satisfied: azure-storage-file-datalake<13.0.0 in /anaconda/envs/jupyter_env/lib/python3.8/site-packages (from azure-ai-ml==1.8.0) (12.13.2)\n",
            "Requirement already satisfied: opencensus-ext-azure<2.0.0 in /anaconda/envs/jupyter_env/lib/python3.8/site-packages (from azure-ai-ml==1.8.0) (1.1.11)\n",
            "Requirement already satisfied: tqdm<5.0.0 in /anaconda/envs/jupyter_env/lib/python3.8/site-packages (from azure-ai-ml==1.8.0) (4.66.1)\n",
            "Requirement already satisfied: pyjwt<3.0.0 in /anaconda/envs/jupyter_env/lib/python3.8/site-packages (from azure-ai-ml==1.8.0) (2.7.0)\n",
            "Requirement already satisfied: isodate in /anaconda/envs/jupyter_env/lib/python3.8/site-packages (from azure-ai-ml==1.8.0) (0.6.1)\n",
            "Requirement already satisfied: colorama<0.5.0 in /anaconda/envs/jupyter_env/lib/python3.8/site-packages (from azure-ai-ml==1.8.0) (0.4.6)\n",
            "Requirement already satisfied: jsonschema<5.0.0,>=4.0.0 in /anaconda/envs/jupyter_env/lib/python3.8/site-packages (from azure-ai-ml==1.8.0) (4.17.3)\n",
            "Requirement already satisfied: marshmallow<4.0.0,>=3.5 in /anaconda/envs/jupyter_env/lib/python3.8/site-packages (from azure-ai-ml==1.8.0) (3.20.1)\n",
            "Requirement already satisfied: msrest>=0.6.18 in /anaconda/envs/jupyter_env/lib/python3.8/site-packages (from azure-ai-ml==1.8.0) (0.7.1)\n",
            "Requirement already satisfied: requests>=2.18.4 in /anaconda/envs/jupyter_env/lib/python3.8/site-packages (from azure-core<2.0.0,>=1.23.0->azure-ai-ml==1.8.0) (2.31.0)\n",
            "Requirement already satisfied: six>=1.11.0 in /anaconda/envs/jupyter_env/lib/python3.8/site-packages (from azure-core<2.0.0,>=1.23.0->azure-ai-ml==1.8.0) (1.16.0)\n",
            "Requirement already satisfied: cryptography>=2.1.4 in /anaconda/envs/jupyter_env/lib/python3.8/site-packages (from azure-storage-blob<13.0.0,>=12.10.0->azure-ai-ml==1.8.0) (41.0.1)\n",
            "Requirement already satisfied: attrs>=17.4.0 in /anaconda/envs/jupyter_env/lib/python3.8/site-packages (from jsonschema<5.0.0,>=4.0.0->azure-ai-ml==1.8.0) (23.1.0)\n",
            "Requirement already satisfied: pkgutil-resolve-name>=1.3.10 in /anaconda/envs/jupyter_env/lib/python3.8/site-packages (from jsonschema<5.0.0,>=4.0.0->azure-ai-ml==1.8.0) (1.3.10)\n",
            "Requirement already satisfied: pyrsistent!=0.17.0,!=0.17.1,!=0.17.2,>=0.14.0 in /anaconda/envs/jupyter_env/lib/python3.8/site-packages (from jsonschema<5.0.0,>=4.0.0->azure-ai-ml==1.8.0) (0.19.3)\n",
            "Requirement already satisfied: importlib-resources>=1.4.0 in /anaconda/envs/jupyter_env/lib/python3.8/site-packages (from jsonschema<5.0.0,>=4.0.0->azure-ai-ml==1.8.0) (5.12.0)\n",
            "Requirement already satisfied: packaging>=17.0 in /anaconda/envs/jupyter_env/lib/python3.8/site-packages (from marshmallow<4.0.0,>=3.5->azure-ai-ml==1.8.0) (23.0)\n",
            "Requirement already satisfied: certifi>=2017.4.17 in /anaconda/envs/jupyter_env/lib/python3.8/site-packages (from msrest>=0.6.18->azure-ai-ml==1.8.0) (2023.5.7)\n",
            "Requirement already satisfied: requests-oauthlib>=0.5.0 in /anaconda/envs/jupyter_env/lib/python3.8/site-packages (from msrest>=0.6.18->azure-ai-ml==1.8.0) (1.3.1)\n",
            "Requirement already satisfied: psutil>=5.6.3 in /anaconda/envs/jupyter_env/lib/python3.8/site-packages (from opencensus-ext-azure<2.0.0->azure-ai-ml==1.8.0) (5.9.5)\n",
            "Requirement already satisfied: opencensus<1.0.0,>=0.11.3 in /anaconda/envs/jupyter_env/lib/python3.8/site-packages (from opencensus-ext-azure<2.0.0->azure-ai-ml==1.8.0) (0.11.3)\n",
            "Requirement already satisfied: azure-identity<2.0.0,>=1.5.0 in /anaconda/envs/jupyter_env/lib/python3.8/site-packages (from opencensus-ext-azure<2.0.0->azure-ai-ml==1.8.0) (1.13.0)\n",
            "Requirement already satisfied: python-dateutil>=2.6.0 in /anaconda/envs/jupyter_env/lib/python3.8/site-packages (from strictyaml<2.0.0->azure-ai-ml==1.8.0) (2.8.2)\n",
            "Requirement already satisfied: msal-extensions<2.0.0,>=0.3.0 in /anaconda/envs/jupyter_env/lib/python3.8/site-packages (from azure-identity<2.0.0,>=1.5.0->opencensus-ext-azure<2.0.0->azure-ai-ml==1.8.0) (1.0.0)\n",
            "Requirement already satisfied: msal<2.0.0,>=1.20.0 in /anaconda/envs/jupyter_env/lib/python3.8/site-packages (from azure-identity<2.0.0,>=1.5.0->opencensus-ext-azure<2.0.0->azure-ai-ml==1.8.0) (1.22.0)\n",
            "Requirement already satisfied: cffi>=1.12 in /anaconda/envs/jupyter_env/lib/python3.8/site-packages (from cryptography>=2.1.4->azure-storage-blob<13.0.0,>=12.10.0->azure-ai-ml==1.8.0) (1.15.1)\n",
            "Requirement already satisfied: zipp>=3.1.0 in /anaconda/envs/jupyter_env/lib/python3.8/site-packages (from importlib-resources>=1.4.0->jsonschema<5.0.0,>=4.0.0->azure-ai-ml==1.8.0) (3.15.0)\n",
            "Requirement already satisfied: google-api-core<3.0.0,>=1.0.0 in /anaconda/envs/jupyter_env/lib/python3.8/site-packages (from opencensus<1.0.0,>=0.11.3->opencensus-ext-azure<2.0.0->azure-ai-ml==1.8.0) (2.11.1)\n",
            "Requirement already satisfied: opencensus-context>=0.1.3 in /anaconda/envs/jupyter_env/lib/python3.8/site-packages (from opencensus<1.0.0,>=0.11.3->opencensus-ext-azure<2.0.0->azure-ai-ml==1.8.0) (0.1.3)\n",
            "Requirement already satisfied: idna<4,>=2.5 in /anaconda/envs/jupyter_env/lib/python3.8/site-packages (from requests>=2.18.4->azure-core<2.0.0,>=1.23.0->azure-ai-ml==1.8.0) (3.4)\n",
            "Requirement already satisfied: charset-normalizer<4,>=2 in /anaconda/envs/jupyter_env/lib/python3.8/site-packages (from requests>=2.18.4->azure-core<2.0.0,>=1.23.0->azure-ai-ml==1.8.0) (3.1.0)\n",
            "Requirement already satisfied: urllib3<3,>=1.21.1 in /anaconda/envs/jupyter_env/lib/python3.8/site-packages (from requests>=2.18.4->azure-core<2.0.0,>=1.23.0->azure-ai-ml==1.8.0) (1.26.16)\n",
            "Requirement already satisfied: oauthlib>=3.0.0 in /anaconda/envs/jupyter_env/lib/python3.8/site-packages (from requests-oauthlib>=0.5.0->msrest>=0.6.18->azure-ai-ml==1.8.0) (3.2.2)\n",
            "Requirement already satisfied: pycparser in /anaconda/envs/jupyter_env/lib/python3.8/site-packages (from cffi>=1.12->cryptography>=2.1.4->azure-storage-blob<13.0.0,>=12.10.0->azure-ai-ml==1.8.0) (2.21)\n",
            "Requirement already satisfied: google-auth<3.0.dev0,>=2.14.1 in /anaconda/envs/jupyter_env/lib/python3.8/site-packages (from google-api-core<3.0.0,>=1.0.0->opencensus<1.0.0,>=0.11.3->opencensus-ext-azure<2.0.0->azure-ai-ml==1.8.0) (2.20.0)\n",
            "Requirement already satisfied: googleapis-common-protos<2.0.dev0,>=1.56.2 in /anaconda/envs/jupyter_env/lib/python3.8/site-packages (from google-api-core<3.0.0,>=1.0.0->opencensus<1.0.0,>=0.11.3->opencensus-ext-azure<2.0.0->azure-ai-ml==1.8.0) (1.59.1)\n",
            "Requirement already satisfied: protobuf!=3.20.0,!=3.20.1,!=4.21.0,!=4.21.1,!=4.21.2,!=4.21.3,!=4.21.4,!=4.21.5,<5.0.0.dev0,>=3.19.5 in /anaconda/envs/jupyter_env/lib/python3.8/site-packages (from google-api-core<3.0.0,>=1.0.0->opencensus<1.0.0,>=0.11.3->opencensus-ext-azure<2.0.0->azure-ai-ml==1.8.0) (4.23.3)\n",
            "Requirement already satisfied: portalocker<3,>=1.0 in /anaconda/envs/jupyter_env/lib/python3.8/site-packages (from msal-extensions<2.0.0,>=0.3.0->azure-identity<2.0.0,>=1.5.0->opencensus-ext-azure<2.0.0->azure-ai-ml==1.8.0) (2.7.0)\n",
            "Requirement already satisfied: cachetools<6.0,>=2.0.0 in /anaconda/envs/jupyter_env/lib/python3.8/site-packages (from google-auth<3.0.dev0,>=2.14.1->google-api-core<3.0.0,>=1.0.0->opencensus<1.0.0,>=0.11.3->opencensus-ext-azure<2.0.0->azure-ai-ml==1.8.0) (5.3.1)\n",
            "Requirement already satisfied: rsa<5,>=3.1.4 in /anaconda/envs/jupyter_env/lib/python3.8/site-packages (from google-auth<3.0.dev0,>=2.14.1->google-api-core<3.0.0,>=1.0.0->opencensus<1.0.0,>=0.11.3->opencensus-ext-azure<2.0.0->azure-ai-ml==1.8.0) (4.9)\n",
            "Requirement already satisfied: pyasn1-modules>=0.2.1 in /anaconda/envs/jupyter_env/lib/python3.8/site-packages (from google-auth<3.0.dev0,>=2.14.1->google-api-core<3.0.0,>=1.0.0->opencensus<1.0.0,>=0.11.3->opencensus-ext-azure<2.0.0->azure-ai-ml==1.8.0) (0.3.0)\n",
            "Requirement already satisfied: pyasn1<0.6.0,>=0.4.6 in /anaconda/envs/jupyter_env/lib/python3.8/site-packages (from pyasn1-modules>=0.2.1->google-auth<3.0.dev0,>=2.14.1->google-api-core<3.0.0,>=1.0.0->opencensus<1.0.0,>=0.11.3->opencensus-ext-azure<2.0.0->azure-ai-ml==1.8.0) (0.5.0)\n",
            "Note: you may need to restart the kernel to use updated packages.\n",
            "Requirement already satisfied: azure-mgmt-msi==7.0.0 in /anaconda/envs/jupyter_env/lib/python3.8/site-packages (7.0.0)\n",
            "Requirement already satisfied: azure-mgmt-core<2.0.0,>=1.3.2 in /anaconda/envs/jupyter_env/lib/python3.8/site-packages (from azure-mgmt-msi==7.0.0) (1.4.0)\n",
            "Requirement already satisfied: msrest>=0.7.1 in /anaconda/envs/jupyter_env/lib/python3.8/site-packages (from azure-mgmt-msi==7.0.0) (0.7.1)\n",
            "Requirement already satisfied: azure-common~=1.1 in /anaconda/envs/jupyter_env/lib/python3.8/site-packages (from azure-mgmt-msi==7.0.0) (1.1.28)\n",
            "Requirement already satisfied: azure-core<2.0.0,>=1.26.2 in /anaconda/envs/jupyter_env/lib/python3.8/site-packages (from azure-mgmt-core<2.0.0,>=1.3.2->azure-mgmt-msi==7.0.0) (1.29.4)\n",
            "Requirement already satisfied: requests~=2.16 in /anaconda/envs/jupyter_env/lib/python3.8/site-packages (from msrest>=0.7.1->azure-mgmt-msi==7.0.0) (2.31.0)\n",
            "Requirement already satisfied: isodate>=0.6.0 in /anaconda/envs/jupyter_env/lib/python3.8/site-packages (from msrest>=0.7.1->azure-mgmt-msi==7.0.0) (0.6.1)\n",
            "Requirement already satisfied: requests-oauthlib>=0.5.0 in /anaconda/envs/jupyter_env/lib/python3.8/site-packages (from msrest>=0.7.1->azure-mgmt-msi==7.0.0) (1.3.1)\n",
            "Requirement already satisfied: certifi>=2017.4.17 in /anaconda/envs/jupyter_env/lib/python3.8/site-packages (from msrest>=0.7.1->azure-mgmt-msi==7.0.0) (2023.5.7)\n",
            "Requirement already satisfied: six>=1.11.0 in /anaconda/envs/jupyter_env/lib/python3.8/site-packages (from azure-core<2.0.0,>=1.26.2->azure-mgmt-core<2.0.0,>=1.3.2->azure-mgmt-msi==7.0.0) (1.16.0)\n",
            "Requirement already satisfied: typing-extensions>=4.6.0 in /anaconda/envs/jupyter_env/lib/python3.8/site-packages (from azure-core<2.0.0,>=1.26.2->azure-mgmt-core<2.0.0,>=1.3.2->azure-mgmt-msi==7.0.0) (4.6.3)\n",
            "Requirement already satisfied: urllib3<3,>=1.21.1 in /anaconda/envs/jupyter_env/lib/python3.8/site-packages (from requests~=2.16->msrest>=0.7.1->azure-mgmt-msi==7.0.0) (1.26.16)\n",
            "Requirement already satisfied: charset-normalizer<4,>=2 in /anaconda/envs/jupyter_env/lib/python3.8/site-packages (from requests~=2.16->msrest>=0.7.1->azure-mgmt-msi==7.0.0) (3.1.0)\n",
            "Requirement already satisfied: idna<4,>=2.5 in /anaconda/envs/jupyter_env/lib/python3.8/site-packages (from requests~=2.16->msrest>=0.7.1->azure-mgmt-msi==7.0.0) (3.4)\n",
            "Requirement already satisfied: oauthlib>=3.0.0 in /anaconda/envs/jupyter_env/lib/python3.8/site-packages (from requests-oauthlib>=0.5.0->msrest>=0.7.1->azure-mgmt-msi==7.0.0) (3.2.2)\n",
            "Note: you may need to restart the kernel to use updated packages.\n",
            "Requirement already satisfied: azure-mgmt-authorization==3.0.0 in /anaconda/envs/jupyter_env/lib/python3.8/site-packages (3.0.0)\n",
            "Requirement already satisfied: azure-common~=1.1 in /anaconda/envs/jupyter_env/lib/python3.8/site-packages (from azure-mgmt-authorization==3.0.0) (1.1.28)\n",
            "Requirement already satisfied: msrest>=0.7.1 in /anaconda/envs/jupyter_env/lib/python3.8/site-packages (from azure-mgmt-authorization==3.0.0) (0.7.1)\n",
            "Requirement already satisfied: azure-mgmt-core<2.0.0,>=1.3.2 in /anaconda/envs/jupyter_env/lib/python3.8/site-packages (from azure-mgmt-authorization==3.0.0) (1.4.0)\n",
            "Requirement already satisfied: azure-core<2.0.0,>=1.26.2 in /anaconda/envs/jupyter_env/lib/python3.8/site-packages (from azure-mgmt-core<2.0.0,>=1.3.2->azure-mgmt-authorization==3.0.0) (1.29.4)\n",
            "Requirement already satisfied: requests-oauthlib>=0.5.0 in /anaconda/envs/jupyter_env/lib/python3.8/site-packages (from msrest>=0.7.1->azure-mgmt-authorization==3.0.0) (1.3.1)\n",
            "Requirement already satisfied: requests~=2.16 in /anaconda/envs/jupyter_env/lib/python3.8/site-packages (from msrest>=0.7.1->azure-mgmt-authorization==3.0.0) (2.31.0)\n",
            "Requirement already satisfied: isodate>=0.6.0 in /anaconda/envs/jupyter_env/lib/python3.8/site-packages (from msrest>=0.7.1->azure-mgmt-authorization==3.0.0) (0.6.1)\n",
            "Requirement already satisfied: certifi>=2017.4.17 in /anaconda/envs/jupyter_env/lib/python3.8/site-packages (from msrest>=0.7.1->azure-mgmt-authorization==3.0.0) (2023.5.7)\n",
            "Requirement already satisfied: six>=1.11.0 in /anaconda/envs/jupyter_env/lib/python3.8/site-packages (from azure-core<2.0.0,>=1.26.2->azure-mgmt-core<2.0.0,>=1.3.2->azure-mgmt-authorization==3.0.0) (1.16.0)\n",
            "Requirement already satisfied: typing-extensions>=4.6.0 in /anaconda/envs/jupyter_env/lib/python3.8/site-packages (from azure-core<2.0.0,>=1.26.2->azure-mgmt-core<2.0.0,>=1.3.2->azure-mgmt-authorization==3.0.0) (4.6.3)\n",
            "Requirement already satisfied: idna<4,>=2.5 in /anaconda/envs/jupyter_env/lib/python3.8/site-packages (from requests~=2.16->msrest>=0.7.1->azure-mgmt-authorization==3.0.0) (3.4)\n",
            "Requirement already satisfied: urllib3<3,>=1.21.1 in /anaconda/envs/jupyter_env/lib/python3.8/site-packages (from requests~=2.16->msrest>=0.7.1->azure-mgmt-authorization==3.0.0) (1.26.16)\n",
            "Requirement already satisfied: charset-normalizer<4,>=2 in /anaconda/envs/jupyter_env/lib/python3.8/site-packages (from requests~=2.16->msrest>=0.7.1->azure-mgmt-authorization==3.0.0) (3.1.0)\n",
            "Requirement already satisfied: oauthlib>=3.0.0 in /anaconda/envs/jupyter_env/lib/python3.8/site-packages (from requests-oauthlib>=0.5.0->msrest>=0.7.1->azure-mgmt-authorization==3.0.0) (3.2.2)\n",
            "Note: you may need to restart the kernel to use updated packages.\n",
            "Requirement already satisfied: azure-ai-contentsafety in /anaconda/envs/jupyter_env/lib/python3.8/site-packages (1.0.0b1)\n",
            "Requirement already satisfied: isodate<1.0.0,>=0.6.1 in /anaconda/envs/jupyter_env/lib/python3.8/site-packages (from azure-ai-contentsafety) (0.6.1)\n",
            "Requirement already satisfied: azure-core<2.0.0,>=1.24.0 in /anaconda/envs/jupyter_env/lib/python3.8/site-packages (from azure-ai-contentsafety) (1.29.4)\n",
            "Requirement already satisfied: requests>=2.18.4 in /anaconda/envs/jupyter_env/lib/python3.8/site-packages (from azure-core<2.0.0,>=1.24.0->azure-ai-contentsafety) (2.31.0)\n",
            "Requirement already satisfied: six>=1.11.0 in /anaconda/envs/jupyter_env/lib/python3.8/site-packages (from azure-core<2.0.0,>=1.24.0->azure-ai-contentsafety) (1.16.0)\n",
            "Requirement already satisfied: typing-extensions>=4.6.0 in /anaconda/envs/jupyter_env/lib/python3.8/site-packages (from azure-core<2.0.0,>=1.24.0->azure-ai-contentsafety) (4.6.3)\n",
            "Requirement already satisfied: idna<4,>=2.5 in /anaconda/envs/jupyter_env/lib/python3.8/site-packages (from requests>=2.18.4->azure-core<2.0.0,>=1.24.0->azure-ai-contentsafety) (3.4)\n",
            "Requirement already satisfied: certifi>=2017.4.17 in /anaconda/envs/jupyter_env/lib/python3.8/site-packages (from requests>=2.18.4->azure-core<2.0.0,>=1.24.0->azure-ai-contentsafety) (2023.5.7)\n",
            "Requirement already satisfied: charset-normalizer<4,>=2 in /anaconda/envs/jupyter_env/lib/python3.8/site-packages (from requests>=2.18.4->azure-core<2.0.0,>=1.24.0->azure-ai-contentsafety) (3.1.0)\n",
            "Requirement already satisfied: urllib3<3,>=1.21.1 in /anaconda/envs/jupyter_env/lib/python3.8/site-packages (from requests>=2.18.4->azure-core<2.0.0,>=1.24.0->azure-ai-contentsafety) (1.26.16)\n",
            "Note: you may need to restart the kernel to use updated packages.\n"
          ]
        }
      ],
      "source": [
        "# uncomment the following lines to install the required packages\n",
        "%pip install azure-identity==1.13.0\n",
        "%pip install azure-mgmt-cognitiveservices==13.4.0\n",
        "%pip install azure-ai-ml==1.8.0\n",
        "%pip install azure-mgmt-msi==7.0.0\n",
        "%pip install azure-mgmt-authorization==3.0.0\n",
        "%pip install azure-ai-contentsafety"
      ]
    },
    {
      "attachments": {},
      "cell_type": "markdown",
      "metadata": {},
      "source": [
        "#### 1.4 Get credential"
      ]
    },
    {
      "cell_type": "code",
      "execution_count": 3,
      "metadata": {
        "gather": {
          "logged": 1697280464754
        }
      },
      "outputs": [],
      "source": [
        "from azure.identity import DefaultAzureCredential, InteractiveBrowserCredential\n",
        "\n",
        "try:\n",
        "    credential = DefaultAzureCredential()\n",
        "    # Check if given credential can get token successfully.\n",
        "    credential.get_token(\"https://management.azure.com/.default\")\n",
        "except Exception as ex:\n",
        "    # Fall back to InteractiveBrowserCredential in case DefaultAzureCredential not work\n",
        "    credential = InteractiveBrowserCredential()"
      ]
    },
    {
      "attachments": {},
      "cell_type": "markdown",
      "metadata": {},
      "source": [
        "#### 1.5 Configure workspace "
      ]
    },
    {
      "cell_type": "code",
      "execution_count": 4,
      "metadata": {
        "gather": {
          "logged": 1697280468259
        }
      },
      "outputs": [
        {
          "name": "stderr",
          "output_type": "stream",
          "text": [
            "Found the config file in: /config.json\n"
          ]
        },
        {
          "name": "stdout",
          "output_type": "stream",
          "text": [
            "Connected to workspace airlift-ws\n"
          ]
        }
      ],
      "source": [
        "from azure.ai.ml import MLClient\n",
        "\n",
        "try:\n",
        "    ml_client = MLClient.from_config(credential=credential)\n",
        "except Exception as ex:\n",
        "    # enter details of your AML workspace\n",
        "    subscription_id = \"\"\n",
        "    resource_group = \"\"\n",
        "    workspace = \"\"\n",
        "\n",
        "    # get a handle to the workspace\n",
        "    ml_client = MLClient(credential, subscription_id, resource_group, workspace)\n",
        "\n",
        "subscription_id = ml_client.subscription_id\n",
        "resource_group = ml_client.resource_group_name\n",
        "workspace = ml_client.workspace_name\n",
        "\n",
        "print(f\"Connected to workspace {workspace}\")"
      ]
    },
    {
      "attachments": {},
      "cell_type": "markdown",
      "metadata": {},
      "source": [
        "#### 1.6 Assign variables for Azure Content Safety\n",
        "Currently, Azure AI Content Safety is in a limited set of regions:\n",
        "\n",
        "\n",
        "__NOTE__: before you choose the region to deploy the Azure AI Content Safety, please be aware that your data will be transferred to the region you choose and by selecting a region outside your current location, you may be allowing the transmission of your data to regions outside your jurisdiction. It is important to note that data protection and privacy laws may vary between jurisdictions. Before proceeding, we strongly advise you to familiarize yourself with the local laws and regulations governing data transfer and ensure that you are legally permitted to transmit your data to an overseas location for processing. By continuing with the selection of a different region, you acknowledge that you have understood and accepted any potential risks associated with such data transmission. Please proceed with caution."
      ]
    },
    {
      "cell_type": "code",
      "execution_count": 5,
      "metadata": {
        "gather": {
          "logged": 1697280468478
        }
      },
      "outputs": [
        {
          "name": "stdout",
          "output_type": "stream",
          "text": [
            "Available SKUs:\n",
            "SKU Name\tSKU Tier\tLocations\n",
            "F0\tFree\tAUSTRALIAEAST\n",
            "F0\tFree\tCANADAEAST\n",
            "F0\tFree\tCENTRALUS\n",
            "F0\tFree\tCENTRALUSEUAP\n",
            "F0\tFree\tEASTUS\n",
            "F0\tFree\tEASTUS2\n",
            "F0\tFree\tFRANCECENTRAL\n",
            "F0\tFree\tJAPANEAST\n",
            "F0\tFree\tNORTHCENTRALUS\n",
            "F0\tFree\tSOUTHCENTRALUS\n",
            "F0\tFree\tSWITZERLANDNORTH\n",
            "F0\tFree\tUKSOUTH\n",
            "F0\tFree\tWESTEUROPE\n",
            "F0\tFree\tWESTUS2\n",
            "F0\tFree\tWESTUS2\n",
            "F0\tFree\tWESTUS3\n",
            "S0\tStandard\tAUSTRALIAEAST\n",
            "S0\tStandard\tCANADAEAST\n",
            "S0\tStandard\tCENTRALUS\n",
            "S0\tStandard\tCENTRALUSEUAP\n",
            "S0\tStandard\tEASTUS\n",
            "S0\tStandard\tEASTUS2\n",
            "S0\tStandard\tFRANCECENTRAL\n",
            "S0\tStandard\tJAPANEAST\n",
            "S0\tStandard\tNORTHCENTRALUS\n",
            "S0\tStandard\tSOUTHCENTRALUS\n",
            "S0\tStandard\tSWITZERLANDNORTH\n",
            "S0\tStandard\tUKSOUTH\n",
            "S0\tStandard\tWESTEUROPE\n",
            "S0\tStandard\tWESTUS2\n",
            "S0\tStandard\tWESTUS2\n",
            "S0\tStandard\tWESTUS3\n",
            "Choose a new Azure AI Content Safety resource in east us with SKU S0\n"
          ]
        }
      ],
      "source": [
        "from azure.mgmt.cognitiveservices import CognitiveServicesManagementClient\n",
        "\n",
        "acs_client = CognitiveServicesManagementClient(credential, subscription_id)\n",
        "\n",
        "\n",
        "# settings for the Azure AI Content Safety resource\n",
        "# we will choose existing AACS resource if it exists, otherwise create a new one\n",
        "# name of azure ai content safety resource, has to be unique\n",
        "import time\n",
        "\n",
        "aacs_name = f\"{endpoint_name}-aacs-{str(time.time()).replace('.','')}\"\n",
        "available_aacs_locations = [\"east us\", \"west europe\"]\n",
        "\n",
        "# create a new Cognitive Services Account\n",
        "kind = \"ContentSafety\"\n",
        "aacs_sku_name = \"S0\"\n",
        "aacs_location = available_aacs_locations[0]\n",
        "\n",
        "\n",
        "print(\"Available SKUs:\")\n",
        "aacs_skus = acs_client.resource_skus.list()\n",
        "print(\"SKU Name\\tSKU Tier\\tLocations\")\n",
        "for sku in aacs_skus:\n",
        "    if sku.kind == \"ContentSafety\":\n",
        "        locations = \",\".join(sku.locations)\n",
        "        print(sku.name + \"\\t\" + sku.tier + \"\\t\" + locations)\n",
        "\n",
        "print(\n",
        "    f\"Choose a new Azure AI Content Safety resource in {aacs_location} with SKU {aacs_sku_name}\"\n",
        ")"
      ]
    },
    {
      "attachments": {},
      "cell_type": "markdown",
      "metadata": {},
      "source": [
        "### 2. Create Azure AI Content Safety"
      ]
    },
    {
      "cell_type": "code",
      "execution_count": null,
      "metadata": {
        "gather": {
          "logged": 1697280468737
        }
      },
      "outputs": [],
      "source": [
        "from azure.mgmt.cognitiveservices.models import Account, Sku, AccountProperties\n",
        "\n",
        "aacs_location = \"WESTEUROPE\"\n",
        "aacs_sku_name = \"S0\"\n",
        "\n",
        "parameters = Account(\n",
        "    sku=Sku(name=aacs_sku_name),\n",
        "    kind=kind,\n",
        "    location=aacs_location,\n",
        "    properties=AccountProperties(\n",
        "        custom_sub_domain_name=aacs_name, public_network_access=\"Enabled\"\n",
        "    ),\n",
        ")\n",
        "# How many seconds to wait between checking the status of an async operation.\n",
        "wait_time = 10\n",
        "\n",
        "\n",
        "def find_acs(accounts):\n",
        "    return next(\n",
        "        x\n",
        "        for x in accounts\n",
        "        if x.kind == \"ContentSafety\"\n",
        "        and x.location == aacs_location\n",
        "        and x.sku.name == aacs_sku_name\n",
        "    )\n",
        "\n",
        "\n",
        "try:\n",
        "    # check if AACS exists\n",
        "    aacs = acs_client.accounts.get(resource_group, aacs_name)\n",
        "    print(f\"Found existing Azure AI content safety Account {aacs.name}.\")\n",
        "except:\n",
        "    try:\n",
        "        # check if there is an existing AACS resource within same resource group\n",
        "        aacs = find_acs(acs_client.accounts.list_by_resource_group(resource_group))\n",
        "        print(\n",
        "            f\"Found existing Azure AI content safety Account {aacs.name} in resource group {resource_group}.\"\n",
        "        )\n",
        "    except:\n",
        "        print(f\"Creating Azure AI content safety Account {aacs_name}.\")\n",
        "        acs_client.accounts.begin_create(resource_group, aacs_name, parameters).wait()\n",
        "        print(\"Resource created.\")\n",
        "        aacs = acs_client.accounts.get(resource_group, aacs_name)\n",
        "\n",
        "\n",
        "aacs_endpoint = aacs.properties.endpoint\n",
        "aacs_resource_id = aacs.id\n",
        "aacs_name = aacs.name\n",
        "print(\n",
        "    f\"AACS name is {aacs.name}, use this name in UAI preparation notebook to create UAI.\"\n",
        ")\n",
        "print(f\"AACS endpoint is {aacs_endpoint}\")\n",
        "print(f\"AACS ResourceId is {aacs_resource_id}\")\n",
        "\n",
        "aacs_access_key = acs_client.accounts.list_keys(\n",
        "    resource_group_name=resource_group, account_name=aacs.name\n",
        ").key1"
      ]
    },
    {
      "cell_type": "markdown",
      "metadata": {
        "nteract": {
          "transient": {
            "deleting": false
          }
        }
      },
      "source": [
        "### Test AI Content Safety with sample text"
      ]
    },
    {
      "cell_type": "code",
      "execution_count": 7,
      "metadata": {
        "gather": {
          "logged": 1697280468959
        },
        "jupyter": {
          "outputs_hidden": false,
          "source_hidden": false
        },
        "nteract": {
          "transient": {
            "deleting": false
          }
        }
      },
      "outputs": [
        {
          "name": "stdout",
          "output_type": "stream",
          "text": [
            "Hate severity: 2\n",
            "SelfHarm severity: 0\n",
            "Sexual severity: 0\n",
            "Violence severity: 0\n"
          ]
        }
      ],
      "source": [
        "from azure.ai.contentsafety import ContentSafetyClient\n",
        "from azure.ai.contentsafety.models import AnalyzeTextOptions\n",
        "from azure.core.credentials import AzureKeyCredential\n",
        "from azure.core.exceptions import HttpResponseError\n",
        "\n",
        "\n",
        "aacs_credential = AzureKeyCredential(aacs_access_key)\n",
        "aacs_client = ContentSafetyClient(aacs_endpoint, aacs_credential)\n",
        "\n",
        "request = AnalyzeTextOptions(text=\"You are an idiot\")\n",
        "\n",
        "try:\n",
        "    response = aacs_client.analyze_text(request)\n",
        "\n",
        "    if response.hate_result:\n",
        "        print(f\"Hate severity: {response.hate_result.severity}\")\n",
        "    if response.self_harm_result:\n",
        "        print(f\"SelfHarm severity: {response.self_harm_result.severity}\")\n",
        "    if response.sexual_result:\n",
        "        print(f\"Sexual severity: {response.sexual_result.severity}\")\n",
        "    if response.violence_result:\n",
        "        print(f\"Violence severity: {response.violence_result.severity}\")\n",
        "\n",
        "except HttpResponseError as e:\n",
        "    print(\"Analyze text failed.\\nCode: {e.error.code}\\nMessage:{e.error.message}\")\n",
        "\n"
      ]
    },
    {
      "attachments": {},
      "cell_type": "markdown",
      "metadata": {},
      "source": [
        "### 3. Create Azure AI Content Safety enabled Llama 2 online endpoint"
      ]
    },
    {
      "attachments": {},
      "cell_type": "markdown",
      "metadata": {},
      "source": [
        "#### 3.1 Check if Llama 2 model is available in the AML registry."
      ]
    },
    {
      "cell_type": "code",
      "execution_count": 8,
      "metadata": {
        "gather": {
          "logged": 1697280470610
        }
      },
      "outputs": [
        {
          "name": "stdout",
          "output_type": "stream",
          "text": [
            "Using model name: Llama-2-7b-chat, version: 13, id: azureml://registries/azureml-meta/models/Llama-2-7b-chat/versions/13 for inferencing\n"
          ]
        }
      ],
      "source": [
        "reg_client = MLClient(\n",
        "    credential,\n",
        "    subscription_id=subscription_id,\n",
        "    resource_group_name=resource_group,\n",
        "    registry_name=registry_name,\n",
        ")\n",
        "version_list = list(\n",
        "    reg_client.models.list(model_name)\n",
        ")  # list available versions of the model\n",
        "llama_model = None\n",
        "\n",
        "# If specific inference environments are tagged for the model\n",
        "inference_envs_exist = False\n",
        "\n",
        "if len(version_list) == 0:\n",
        "    raise Exception(f\"No model named {model_name} found in registry\")\n",
        "else:\n",
        "    model_version = version_list[0].version\n",
        "    llama_model = reg_client.models.get(model_name, model_version)\n",
        "    if (\n",
        "        \"inference_supported_envs\" in llama_model.tags\n",
        "        and len(llama_model.tags[\"inference_supported_envs\"]) >= 1\n",
        "    ):\n",
        "        inference_envs_exist = True\n",
        "    print(\n",
        "        f\"Using model name: {llama_model.name}, version: {llama_model.version}, id: {llama_model.id} for inferencing\"\n",
        "    )"
      ]
    },
    {
      "attachments": {},
      "cell_type": "markdown",
      "metadata": {},
      "source": [
        "#### 3.2 Check if UAI is used"
      ]
    },
    {
      "cell_type": "code",
      "execution_count": 9,
      "metadata": {
        "gather": {
          "logged": 1697280470807
        }
      },
      "outputs": [],
      "source": [
        "uai_id = \"\"\n",
        "uai_client_id = \"\"\n",
        "if uai_name != \"\":\n",
        "    from azure.mgmt.msi import ManagedServiceIdentityClient\n",
        "    from azure.mgmt.msi.models import Identity\n",
        "\n",
        "    msi_client = ManagedServiceIdentityClient(\n",
        "        subscription_id=subscription_id,\n",
        "        credential=credential,\n",
        "    )\n",
        "    uai_resource = msi_client.user_assigned_identities.get(resource_group, uai_name)\n",
        "    uai_id = uai_resource.id\n",
        "    uai_client_id = uai_resource.client_id"
      ]
    },
    {
      "attachments": {},
      "cell_type": "markdown",
      "metadata": {},
      "source": [
        "#### 3.3 Create Llama 2 online endpoint\n",
        "This step may take a few minutes."
      ]
    },
    {
      "attachments": {},
      "cell_type": "markdown",
      "metadata": {},
      "source": [
        "#### Create endpoint"
      ]
    },
    {
      "cell_type": "code",
      "execution_count": 10,
      "metadata": {
        "gather": {
          "logged": 1697280471331
        }
      },
      "outputs": [
        {
          "name": "stdout",
          "output_type": "stream",
          "text": [
            "---Endpoint already exists---\n"
          ]
        }
      ],
      "source": [
        "from azure.ai.ml.entities import (\n",
        "    ManagedOnlineEndpoint,\n",
        "    IdentityConfiguration,\n",
        "    ManagedIdentityConfiguration,\n",
        ")\n",
        "\n",
        "# Check if the endpoint already exists in the workspace\n",
        "try:\n",
        "    endpoint = ml_client.online_endpoints.get(endpoint_name)\n",
        "    print(\"---Endpoint already exists---\")\n",
        "except:\n",
        "    # Create an online endpoint if it doesn't exist\n",
        "\n",
        "    # Define the endpoint\n",
        "    endpoint = ManagedOnlineEndpoint(\n",
        "        name=endpoint_name,\n",
        "        description=\"Test endpoint for model\",\n",
        "        identity=IdentityConfiguration(\n",
        "            type=\"user_assigned\",\n",
        "            user_assigned_identities=[ManagedIdentityConfiguration(resource_id=uai_id)],\n",
        "        )\n",
        "        if uai_id != \"\"\n",
        "        else None,\n",
        "    )\n",
        "\n",
        "    # Trigger the endpoint creation\n",
        "    try:\n",
        "        ml_client.begin_create_or_update(endpoint).wait()\n",
        "        print(\"\\n---Endpoint created successfully---\\n\")\n",
        "    except Exception as err:\n",
        "        raise RuntimeError(\n",
        "            f\"Endpoint creation failed. Detailed Response:\\n{err}\"\n",
        "        ) from err"
      ]
    },
    {
      "attachments": {},
      "cell_type": "markdown",
      "metadata": {},
      "source": [
        "##### 3.4 Deploy Llama 2 model\n",
        "This step may take a few minutes."
      ]
    },
    {
      "attachments": {},
      "cell_type": "markdown",
      "metadata": {},
      "source": [
        "#### Create deployment"
      ]
    },
    {
      "attachments": {},
      "cell_type": "markdown",
      "metadata": {},
      "source": [
        "Initialize deployment parameters"
      ]
    },
    {
      "cell_type": "code",
      "execution_count": 11,
      "metadata": {
        "gather": {
          "logged": 1697280471546
        }
      },
      "outputs": [],
      "source": [
        "REQUEST_TIMEOUT_MS = 90000\n",
        "\n",
        "deployment_env_vars = {\n",
        "    \"CONTENT_SAFETY_ACCOUNT_NAME\": aacs_name,\n",
        "    \"CONTENT_SAFETY_ENDPOINT\": aacs_endpoint,\n",
        "    \"CONTENT_SAFETY_KEY\": aacs_access_key if uai_client_id == \"\" else None,\n",
        "    \"CONTENT_SAFETY_THRESHOLD\": content_severity_threshold,\n",
        "    \"SUBSCRIPTION_ID\": subscription_id,\n",
        "    \"RESOURCE_GROUP_NAME\": resource_group,\n",
        "    \"UAI_CLIENT_ID\": uai_client_id,\n",
        "}"
      ]
    },
    {
      "cell_type": "code",
      "execution_count": 12,
      "metadata": {
        "gather": {
          "logged": 1697281299625
        }
      },
      "outputs": [
        {
          "name": "stderr",
          "output_type": "stream",
          "text": [
            "Check: endpoint Llama-2-7b-chat-test-ep exists\n"
          ]
        },
        {
          "name": "stdout",
          "output_type": "stream",
          "text": [
            ".................................................................................................................................................................\n",
            "---Deployment created successfully---\n",
            "\n"
          ]
        }
      ],
      "source": [
        "from azure.ai.ml.entities import (\n",
        "    OnlineRequestSettings,\n",
        "    CodeConfiguration,\n",
        "    ManagedOnlineDeployment,\n",
        "    ProbeSettings,\n",
        ")\n",
        "\n",
        "# For inference environments HF TGI and DS MII, the scoring script is baked into the container\n",
        "code_configuration = (\n",
        "    CodeConfiguration(code=\"./llama-files/score/default/\", scoring_script=\"score.py\")\n",
        "    if not inference_envs_exist\n",
        "    else None\n",
        ")\n",
        "\n",
        "deployment = ManagedOnlineDeployment(\n",
        "    name=deployment_name,\n",
        "    endpoint_name=endpoint_name,\n",
        "    model=llama_model.id,\n",
        "    instance_type=sku_name,\n",
        "    instance_count=1,\n",
        "    code_configuration=code_configuration,\n",
        "    environment_variables=deployment_env_vars,\n",
        "    request_settings=OnlineRequestSettings(request_timeout_ms=REQUEST_TIMEOUT_MS),\n",
        "    liveness_probe=ProbeSettings(\n",
        "        failure_threshold=30,\n",
        "        success_threshold=1,\n",
        "        period=100,\n",
        "        initial_delay=500,\n",
        "    ),\n",
        "    readiness_probe=ProbeSettings(\n",
        "        failure_threshold=30,\n",
        "        success_threshold=1,\n",
        "        period=100,\n",
        "        initial_delay=500,\n",
        "    ),\n",
        ")\n",
        "\n",
        "# Trigger the deployment creation\n",
        "try:\n",
        "    ml_client.begin_create_or_update(deployment).wait()\n",
        "    print(\"\\n---Deployment created successfully---\\n\")\n",
        "except Exception as err:\n",
        "    raise RuntimeError(\n",
        "        f\"Deployment creation failed. Detailed Response:\\n{err}\"\n",
        "    ) from err"
      ]
    },
    {
      "attachments": {},
      "cell_type": "markdown",
      "metadata": {},
      "source": [
        "### 4. Test the Safety Enabled Llama 2 online endpoint."
      ]
    },
    {
      "cell_type": "code",
      "execution_count": 13,
      "metadata": {
        "gather": {
          "logged": 1697285455721
        }
      },
      "outputs": [
        {
          "name": "stdout",
          "output_type": "stream",
          "text": [
            "test script directory: ./safety-llama-test\n"
          ]
        }
      ],
      "source": [
        "import os\n",
        "\n",
        "test_src_dir = \"./safety-llama-test\"\n",
        "os.makedirs(test_src_dir, exist_ok=True)\n",
        "print(f\"test script directory: {test_src_dir}\")\n",
        "sample_data = os.path.join(test_src_dir, \"sample-request.json\")"
      ]
    },
    {
      "attachments": {},
      "cell_type": "markdown",
      "metadata": {},
      "source": [
        "##### Choose request from following 4 cells based on the Llama 2 model type you chosen and the scenario you want to test"
      ]
    },
    {
      "cell_type": "code",
      "execution_count": null,
      "metadata": {},
      "outputs": [],
      "source": [
        "## For text-generation models (without -chat suffix)\n",
        "## Successful response\n",
        "\n",
        "import json\n",
        "\n",
        "with open(sample_data, \"w\") as f:\n",
        "    json.dump(\n",
        "        {\n",
        "            \"input_data\": {\n",
        "                \"input_string\": [\n",
        "                    \"Hello\",\n",
        "                    \"My name is John and I have a dog.\",\n",
        "                ],\n",
        "                \"parameters\": {\n",
        "                    \"temperature\": 0.6,\n",
        "                    \"top_p\": 0.6,\n",
        "                    \"max_new_tokens\": 256,\n",
        "                    \"do_sample\": True,\n",
        "                },\n",
        "            }\n",
        "        },\n",
        "        f,\n",
        "    )"
      ]
    },
    {
      "cell_type": "code",
      "execution_count": 14,
      "metadata": {
        "gather": {
          "logged": 1697285461749
        }
      },
      "outputs": [],
      "source": [
        "## For text-generation models (without -chat suffix)\n",
        "## Blocked request/response due to hateful content\n",
        "\n",
        "import json\n",
        "\n",
        "with open(sample_data, \"w\") as f:\n",
        "    json.dump(\n",
        "        {\n",
        "            \"input_data\": {\n",
        "                \"input_string\": [\n",
        "                    \"The dog was given a eutanasa injection due to their severed leg bleding profusely from deep lacarations to the lower extremities, exposing tisssue and nerve.\",  # This line contains hateful message and endpoint will return empty string as response\n",
        "                ],\n",
        "                \"parameters\": {\n",
        "                    \"temperature\": 0.6,\n",
        "                    \"top_p\": 0.6,\n",
        "                    \"max_new_tokens\": 256,\n",
        "                    \"do_sample\": True,\n",
        "                },\n",
        "            }\n",
        "        },\n",
        "        f,\n",
        "    )"
      ]
    },
    {
      "cell_type": "code",
      "execution_count": 21,
      "metadata": {
        "gather": {
          "logged": 1697286527860
        }
      },
      "outputs": [],
      "source": [
        "## For chat-complete models (with \"-chat\" suffix)\n",
        "## Successful request/response\n",
        "\n",
        "import json\n",
        "\n",
        "with open(sample_data, \"w\") as f:\n",
        "    json.dump(\n",
        "        {\n",
        "            \"input_data\": {\n",
        "                \"input_string\": [\n",
        "                    {\n",
        "                        \"role\": \"user\",\n",
        "                        \"content\": \"What is the tallest building in the world?\",\n",
        "                    },\n",
        "                    {\n",
        "                        \"role\": \"assistant\",\n",
        "                        \"content\": \"As of 2021, the Burj Khalifa in Dubai, United Arab Emirates is the tallest building in the world, standing at a height of 828 meters (2,722 feet). It was completed in 2010 and has 163 floors. The Burj Khalifa is not only the tallest building in the world but also holds several other records, such as the highest occupied floor, highest outdoor observation deck, elevator with the longest travel distance, and the tallest freestanding structure in the world.\",\n",
        "                    },\n",
        "                    {\"role\": \"user\", \"content\": \"and in Africa?\"},\n",
        "                    {\n",
        "                        \"role\": \"assistant\",\n",
        "                        \"content\": \"In Africa, the tallest building is the Carlton Centre, located in Johannesburg, South Africa. It stands at a height of 50 floors and 223 meters (730 feet). The CarltonDefault Centre was completed in 1973 and was the tallest building in Africa for many years until the construction of the Leonardo, a 55-story skyscraper in Sandton, Johannesburg, which was completed in 2019 and stands at a height of 230 meters (755 feet). Other notable tall buildings in Africa include the Ponte City Apartments in Johannesburg, the John Hancock Center in Lagos, Nigeria, and the Alpha II Building in Abidjan, Ivory Coast\",\n",
        "                    },\n",
        "                    {\"role\": \"user\", \"content\": \"and in Europe?\"},\n",
        "                ],\n",
        "                \"parameters\": {\n",
        "                    \"temperature\": 0.9,\n",
        "                    \"top_p\": 0.6,\n",
        "                    \"do_sample\": True,\n",
        "                    \"max_new_tokens\": 100,\n",
        "                },\n",
        "            }\n",
        "        },\n",
        "        f,\n",
        "    )"
      ]
    },
    {
      "cell_type": "code",
      "execution_count": 25,
      "metadata": {
        "gather": {
          "logged": 1697286583571
        }
      },
      "outputs": [
        {
          "data": {
            "text/plain": [
              "'{\"output\": \"\"}'"
            ]
          },
          "execution_count": 25,
          "metadata": {},
          "output_type": "execute_result"
        }
      ],
      "source": [
        "## For chat-complete models (with \"-chat\" suffix)\n",
        "## Blocked request due to hateful content\n",
        "\n",
        "import json\n",
        "\n",
        "with open(sample_data, \"w\") as f:\n",
        "    json.dump(\n",
        "        {\n",
        "            \"input_data\": {\n",
        "                \"input_string\": [\n",
        "                    {\n",
        "                        \"role\": \"user\",\n",
        "                        \"content\": \"A 51-year-old man was found dead in his car. \\\n",
        "                                    There were blood stains on the dashboard and windscreen. \\\n",
        "                                    At autopsy, a deep, oblique, long incised injury was found \\\n",
        "                                    on the front of the neck. It turns out that he died by suicide.\",\n",
        "                    },\n",
        "                ],\n",
        "                \"parameters\": {\n",
        "                    \"temperature\": 0.9,\n",
        "                    \"top_p\": 0.6,\n",
        "                    \"do_sample\": True,\n",
        "                    \"max_new_tokens\": 100,\n",
        "                },\n",
        "            }\n",
        "        },\n",
        "        f,\n",
        "    )\n",
        "\n",
        "ml_client.online_endpoints.invoke(\n",
        "    endpoint_name=endpoint_name,\n",
        "    deployment_name=deployment_name,\n",
        "    request_file=sample_data,\n",
        ")    "
      ]
    },
    {
      "cell_type": "code",
      "execution_count": 23,
      "metadata": {
        "gather": {
          "logged": 1697286543952
        }
      },
      "outputs": [
        {
          "data": {
            "text/plain": [
              "'{\"output\": \"\"}'"
            ]
          },
          "execution_count": 23,
          "metadata": {},
          "output_type": "execute_result"
        }
      ],
      "source": [
        "ml_client.online_endpoints.invoke(\n",
        "    endpoint_name=endpoint_name,\n",
        "    deployment_name=deployment_name,\n",
        "    request_file=sample_data,\n",
        ")"
      ]
    },
    {
      "cell_type": "code",
      "execution_count": 27,
      "metadata": {
        "gather": {
          "logged": 1697286658687
        }
      },
      "outputs": [
        {
          "data": {
            "text/plain": [
              "'{\"output\": \" Hello John! It\\'s great to meet you and your furry friend! How is your dog doing? What breed is he/she? Do you have any fun plans for the weekend? \\\\ud83d\\\\udc36\\\\ud83d\\\\ude0a\"}'"
            ]
          },
          "execution_count": 27,
          "metadata": {},
          "output_type": "execute_result"
        }
      ],
      "source": [
        "\n",
        "import json\n",
        "\n",
        "with open(sample_data, \"w\") as f:\n",
        "    json.dump(\n",
        "        {\n",
        "            \"input_data\": {\n",
        "                \"input_string\": [\n",
        "                    {\n",
        "                        \"role\": \"user\",\n",
        "                        \"content\": \"Hello. My name is John and I have a dog.\",\n",
        "                    },\n",
        "                ],\n",
        "                \"parameters\": {\n",
        "                    \"temperature\": 0.9,\n",
        "                    \"top_p\": 0.6,\n",
        "                    \"do_sample\": True,\n",
        "                    \"max_new_tokens\": 100,\n",
        "                },\n",
        "            }\n",
        "        },\n",
        "        f,\n",
        "    )\n",
        "\n",
        "ml_client.online_endpoints.invoke(\n",
        "    endpoint_name=endpoint_name,\n",
        "    deployment_name=deployment_name,\n",
        "    request_file=sample_data,\n",
        ")\n"
      ]
    },
    {
      "cell_type": "code",
      "execution_count": null,
      "metadata": {
        "jupyter": {
          "outputs_hidden": false,
          "source_hidden": false
        },
        "nteract": {
          "transient": {
            "deleting": false
          }
        }
      },
      "outputs": [],
      "source": []
    }
  ],
  "metadata": {
    "categories": [
      "SDK v2",
      "sdk",
      "python",
      "foundation-models",
      "system",
      "inference",
      "text-generation"
    ],
    "kernel_info": {
      "name": "python3"
    },
    "kernelspec": {
      "display_name": "Python 3 (ipykernel)",
      "language": "python",
      "name": "python3"
    },
    "language_info": {
      "codemirror_mode": {
        "name": "ipython",
        "version": 3
      },
      "file_extension": ".py",
      "mimetype": "text/x-python",
      "name": "python",
      "nbconvert_exporter": "python",
      "pygments_lexer": "ipython3",
      "version": "3.8.5"
    },
    "microsoft": {
      "ms_spell_check": {
        "ms_spell_check_language": "en"
      }
    },
    "nteract": {
      "version": "nteract-front-end@1.0.0"
    }
  },
  "nbformat": 4,
  "nbformat_minor": 1
}
